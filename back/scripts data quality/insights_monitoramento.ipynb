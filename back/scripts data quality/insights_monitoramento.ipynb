{
  "cells": [
    {
      "cell_type": "code",
      "execution_count": null,
      "metadata": {
        "id": "gvj7_fO5vl2q"
      },
      "outputs": [],
      "source": [
        "import pandas as pd\n",
        "import matplotlib.pyplot as plt\n",
        "import numpy as np\n",
        "\n",
        "from sklearn.metrics import mean_squared_error, mean_absolute_error\n",
        "from google.cloud import bigquery\n",
        "from google.oauth2 import service_account\n",
        "from math import sqrt\n",
        "from datetime import datetime"
      ]
    },
    {
      "cell_type": "code",
      "execution_count": null,
      "metadata": {
        "id": "5h5BKtaSvss0"
      },
      "outputs": [],
      "source": [
        "from google.colab import drive\n",
        "drive.mount('/content/drive')"
      ]
    },
    {
      "cell_type": "code",
      "execution_count": null,
      "metadata": {
        "id": "3xp_jmCjwNbf"
      },
      "outputs": [],
      "source": [
        "SA_FILEPATH = \"/content/drive/MyDrive/Insight Estoque/service_account_unif.json\"\n",
        "\n",
        "credentials = service_account.Credentials.from_service_account_file(\n",
        "    SA_FILEPATH, scopes=[\"https://www.googleapis.com/auth/cloud-platform\"],\n",
        ")\n",
        "\n",
        "client = bigquery.Client(credentials=credentials, project=credentials.project_id,)"
      ]
    },
    {
      "cell_type": "code",
      "execution_count": null,
      "metadata": {
        "id": "kxt2hRGewVms"
      },
      "outputs": [],
      "source": [
        "project_name = 'carol-0483dfa91ba54cd4b97b.0483dfa91ba54cd4b97b1613f1171932'"
      ]
    },
    {
      "cell_type": "code",
      "execution_count": null,
      "metadata": {
        "id": "GvJeu4lQwaBZ"
      },
      "outputs": [],
      "source": [
        "# query = \"\"\"\n",
        "#   SELECT DISTINCT tenantid, 'Sim' AS Contabil\n",
        "#   FROM `{0}.accoutingforecast`\n",
        "# \"\"\".format(project_name)\n",
        "\n",
        "query = \"\"\"\n",
        "  SELECT tenantid, count(*) AS Contabil\n",
        "  FROM `{0}.deduplicated_accoutingforecast`\n",
        "  GROUP BY tenantid\n",
        "\"\"\".format(project_name)"
      ]
    },
    {
      "cell_type": "code",
      "execution_count": null,
      "metadata": {
        "id": "8lH8KB-Cx_s8"
      },
      "outputs": [],
      "source": [
        "df_contabil = client.query(query).to_dataframe()"
      ]
    },
    {
      "cell_type": "code",
      "execution_count": null,
      "metadata": {
        "id": "5aSDAoslyEcI"
      },
      "outputs": [],
      "source": [
        "df_contabil"
      ]
    },
    {
      "cell_type": "code",
      "execution_count": null,
      "metadata": {
        "id": "_VigAs5LyKe-"
      },
      "outputs": [],
      "source": [
        "# query = \"\"\"\n",
        "#   SELECT DISTINCT tenantid, 'Sim' AS Compras\n",
        "#   FROM `{0}.demandalerts`\n",
        "# \"\"\".format(project_name)\n",
        "\n",
        "query = \"\"\"\n",
        "  SELECT tenantid, count(id) AS Compras\n",
        "  from(\n",
        "    SELECT DISTINCT tenantid, id, frequency\n",
        "    FROM `{0}.deduplicated_demandgraph`\n",
        "    WHERE FORMAT_DATETIME('%Y%m%d', mdmLastUpdated) = ( SELECT MAX(FORMAT_DATETIME('%Y%m%d', mdmLastUpdated)) FROM `{0}.deduplicated_demandgraph` )\n",
        "    )\n",
        "  GROUP BY tenantid\n",
        "\"\"\".format(project_name)"
      ]
    },
    {
      "cell_type": "code",
      "execution_count": null,
      "metadata": {
        "id": "rIyGs3RMycnA"
      },
      "outputs": [],
      "source": [
        "df_compras = client.query(query).to_dataframe()"
      ]
    },
    {
      "cell_type": "code",
      "execution_count": null,
      "metadata": {
        "id": "zt_KADZ-ygYi"
      },
      "outputs": [],
      "source": [
        "df_compras.head()"
      ]
    },
    {
      "cell_type": "code",
      "execution_count": null,
      "metadata": {
        "id": "2nsvjjgOyjsY"
      },
      "outputs": [],
      "source": [
        "# query = \"\"\"\n",
        "#   SELECT DISTINCT tenantid, 'Sim' AS Estoque\n",
        "#   FROM `{0}.rupturealert`\n",
        "# \"\"\".format(project_name)\n",
        "\n",
        "query = \"\"\"\n",
        "  SELECT tenantid, count(id) AS Estoque\n",
        "  FROM(\n",
        "    SELECT DISTINCT tenantid, id, frequency\n",
        "    FROM `{0}.deduplicated_rupturegraph`\n",
        "    WHERE FORMAT_DATETIME('%Y%m%d', mdmLastUpdated) = ( SELECT MAX(FORMAT_DATETIME('%Y%m%d', mdmLastUpdated)) FROM `{0}.deduplicated_rupturegraph` )\n",
        "  )\n",
        "  GROUP BY tenantid\n",
        "\"\"\".format(project_name)"
      ]
    },
    {
      "cell_type": "code",
      "execution_count": null,
      "metadata": {
        "id": "Uitr4gTVytUc"
      },
      "outputs": [],
      "source": [
        "df_estoque = client.query(query).to_dataframe()"
      ]
    },
    {
      "cell_type": "code",
      "execution_count": null,
      "metadata": {
        "id": "9vaDiNrGy6UP"
      },
      "outputs": [],
      "source": [
        "df_estoque.head()"
      ]
    },
    {
      "cell_type": "code",
      "execution_count": null,
      "metadata": {
        "id": "PbAH1uRyzC1P"
      },
      "outputs": [],
      "source": [
        "# query = \"\"\"\n",
        "#   SELECT DISTINCT tenantid, 'Sim' AS Financeiro\n",
        "#   FROM `{0}.forecastfinancial`\n",
        "# \"\"\".format(project_name)\n",
        "\n",
        "query = \"\"\"\n",
        "  SELECT tenantid, count(branch) AS Financeiro\n",
        "  FROM(\n",
        "    SELECT DISTINCT tenantid, company_group, branch, frequency\n",
        "    FROM `{0}.deduplicated_forecastfinancial`\n",
        "    WHERE FORMAT_DATETIME('%Y%m%d', mdmLastUpdated) = ( SELECT MAX(FORMAT_DATETIME('%Y%m%d', mdmLastUpdated)) FROM `{0}.deduplicated_forecastfinancial` )\n",
        "  )\n",
        "  GROUP BY tenantid\n",
        "\"\"\".format(project_name)\n",
        "\n",
        "# query = \"\"\"\n",
        "#   SELECT tenantid, count(branch) AS Financeiro\n",
        "#   FROM(\n",
        "#     SELECT DISTINCT tenantid, company_group, branch, frequency\n",
        "#     FROM `{0}.deduplicated_financialalert`\n",
        "#   )\n",
        "#   GROUP BY tenantid\n",
        "# \"\"\".format(project_name)"
      ]
    },
    {
      "cell_type": "code",
      "execution_count": null,
      "metadata": {
        "id": "WrXHBydUzQnR"
      },
      "outputs": [],
      "source": [
        "df_financeiro = client.query(query).to_dataframe()"
      ]
    },
    {
      "cell_type": "code",
      "execution_count": null,
      "metadata": {
        "id": "0IFStK63zXCP"
      },
      "outputs": [],
      "source": [
        "df_financeiro.head()"
      ]
    },
    {
      "cell_type": "code",
      "source": [
        "df_financeiro['Financeiro'].sum()"
      ],
      "metadata": {
        "id": "lPZm3ZIL0z7x"
      },
      "execution_count": null,
      "outputs": []
    },
    {
      "cell_type": "code",
      "execution_count": null,
      "metadata": {
        "id": "S9yTGWlUzZu-"
      },
      "outputs": [],
      "source": [
        "df = df_financeiro.merge(df_estoque, how='outer', on=['tenantid'])"
      ]
    },
    {
      "cell_type": "code",
      "execution_count": null,
      "metadata": {
        "id": "PkF3q8Wl1NQn"
      },
      "outputs": [],
      "source": [
        "df = df.merge(df_compras, how='outer', on=['tenantid'])"
      ]
    },
    {
      "cell_type": "code",
      "execution_count": null,
      "metadata": {
        "id": "Vsen-Bus1Wp3"
      },
      "outputs": [],
      "source": [
        "df = df.merge(df_contabil, how='outer', on=['tenantid'])"
      ]
    },
    {
      "cell_type": "code",
      "execution_count": null,
      "metadata": {
        "id": "txMtgT231cBH"
      },
      "outputs": [],
      "source": [
        "df.shape"
      ]
    },
    {
      "cell_type": "code",
      "execution_count": null,
      "metadata": {
        "id": "qiW_vWSb1g4l"
      },
      "outputs": [],
      "source": [
        "# df.fillna('Não', inplace=True)\n",
        "df.fillna(0, inplace=True)"
      ]
    },
    {
      "cell_type": "code",
      "execution_count": null,
      "metadata": {
        "id": "8vPaIT3wl1Je"
      },
      "outputs": [],
      "source": [
        "df.loc[df.Financeiro > 0, \"Financeiro\"] = 1\n",
        "df.loc[df.Estoque > 0, \"Estoque\"] = 1\n",
        "df.loc[df.Compras > 0, \"Compras\"] = 1\n",
        "df.loc[df.Contabil > 0, \"Contabil\"] = 1"
      ]
    },
    {
      "cell_type": "code",
      "execution_count": null,
      "metadata": {
        "id": "mvyz_vea2ELl"
      },
      "outputs": [],
      "source": [
        "df.head()"
      ]
    },
    {
      "cell_type": "code",
      "execution_count": null,
      "metadata": {
        "id": "UWWJiH2du4R-"
      },
      "outputs": [],
      "source": [
        "df.to_excel('/content/drive/MyDrive/Insight Estoque/tenants_insights.xlsx')"
      ]
    },
    {
      "cell_type": "markdown",
      "metadata": {
        "id": "F-5a42Y2ALLx"
      },
      "source": [
        "### Clientes Piloto"
      ]
    },
    {
      "cell_type": "code",
      "execution_count": null,
      "metadata": {
        "id": "BJfzUz6DIbzP"
      },
      "outputs": [],
      "source": [
        "# df_pilotos = pd.read_excel('/content/drive/MyDrive/Insight Estoque/pilotos.xlsx')"
      ]
    },
    {
      "cell_type": "code",
      "execution_count": null,
      "metadata": {
        "id": "FvLjgGJ9IedG"
      },
      "outputs": [],
      "source": [
        "# df_pilotos"
      ]
    },
    {
      "cell_type": "code",
      "source": [
        "# df['Contabil'].sum()"
      ],
      "metadata": {
        "id": "yhXGsulHz-WC"
      },
      "execution_count": null,
      "outputs": []
    }
  ],
  "metadata": {
    "colab": {
      "provenance": []
    },
    "kernelspec": {
      "display_name": "Python 3",
      "name": "python3"
    },
    "language_info": {
      "name": "python"
    }
  },
  "nbformat": 4,
  "nbformat_minor": 0
}